{
  "nbformat": 4,
  "nbformat_minor": 0,
  "metadata": {
    "colab": {
      "provenance": []
    },
    "kernelspec": {
      "name": "python3",
      "display_name": "Python 3"
    },
    "language_info": {
      "name": "python"
    }
  },
  "cells": [
    {
      "cell_type": "markdown",
      "source": [
        "# **Assignment 1**\n",
        "Επιβλεπόμενη μάθηση – Ταξινόμηση"
      ],
      "metadata": {
        "id": "sjmeFpGnpKwV"
      }
    },
    {
      "cell_type": "markdown",
      "source": [
        "*   Antonios Kagias\n",
        "*   AIDA\n",
        "*   aid23003@uom.edu.gr\n",
        "*   aid23003"
      ],
      "metadata": {
        "id": "7JKEK50FNRrx"
      }
    },
    {
      "cell_type": "code",
      "source": [
        "# Load libraries\n",
        "import pandas as pd\n",
        "import numpy as np\n",
        "import keras\n",
        "from sklearn.model_selection import train_test_split\n",
        "from sklearn.discriminant_analysis import LinearDiscriminantAnalysis\n",
        "from sklearn.linear_model import LogisticRegression\n",
        "from sklearn.tree import DecisionTreeClassifier\n",
        "from sklearn.neighbors import KNeighborsClassifier\n",
        "from sklearn.naive_bayes import GaussianNB\n",
        "from sklearn.svm import SVC\n",
        "from sklearn.neural_network import MLPClassifier\n",
        "from sklearn.metrics import accuracy_score, precision_score, recall_score, f1_score, confusion_matrix"
      ],
      "metadata": {
        "id": "NYYpKX7rMnq4"
      },
      "execution_count": 125,
      "outputs": []
    },
    {
      "cell_type": "code",
      "source": [
        "# Change directory name!!!\n",
        "df_companies = pd.read_excel(r'/content/drive/MyDrive/Colab Notebooks/AIDA/1ο Εξάμηνο/Dataset2Use_Assignment1.xlsx')\n",
        "display(df_companies)"
      ],
      "metadata": {
        "colab": {
          "base_uri": "https://localhost:8080/",
          "height": 519
        },
        "id": "35Uu-6vpM5Vg",
        "outputId": "9d4ca71a-2b1a-4c78-d1ab-a55407be5140"
      },
      "execution_count": 126,
      "outputs": [
        {
          "output_type": "display_data",
          "data": {
            "text/plain": [
              "       365* ( Β.Υ / Κοστ.Πωλ )  Λειτ.Αποτ/Συν.Ενεργ. (ROA)  \\\n",
              "0                  1014.128862                    0.011751   \n",
              "1                   561.974631                    0.099662   \n",
              "2                   826.919025                    0.009594   \n",
              "3                   493.176956                    0.196284   \n",
              "4                   100.421465                    0.179038   \n",
              "...                        ...                         ...   \n",
              "10711               129.571104                    0.046147   \n",
              "10712              1112.742613                    0.032630   \n",
              "10713              1194.250878                   -0.172327   \n",
              "10714              1500.000000                   -0.073754   \n",
              "10715              1500.000000                   -0.052115   \n",
              "\n",
              "       ΧΡΗΜ.ΔΑΠΑΝΕΣ / ΠΩΛΗΣΕΙΣ  \\\n",
              "0                     0.038505   \n",
              "1                     0.015775   \n",
              "2                     0.093562   \n",
              "3                     0.000581   \n",
              "4                     0.000173   \n",
              "...                        ...   \n",
              "10711                 0.000000   \n",
              "10712                 0.134262   \n",
              "10713                 0.200000   \n",
              "10714                 0.200000   \n",
              "10715                 0.200000   \n",
              "\n",
              "        ΠΡΑΓΜΑΤΙΚΗ ΡΕΥΣΤΟΤΗΤΑ :  (ΚΕ-ΑΠΟΘΕΜΑΤΑ) / Β.Υ  (ΑΠΑΙΤ.*365) / ΠΩΛ.  \\\n",
              "0                                            0.965479           567.866550   \n",
              "1                                            1.415467           335.917481   \n",
              "2                                            1.575034           350.618086   \n",
              "3                                            1.346780           414.508709   \n",
              "4                                            3.299687           118.548381   \n",
              "...                                               ...                  ...   \n",
              "10711                                        1.260416             0.380702   \n",
              "10712                                        0.664461             1.319013   \n",
              "10713                                        0.572939             1.872967   \n",
              "10714                                        0.715888            16.158480   \n",
              "10715                                        1.072936            34.691370   \n",
              "\n",
              "       Συν.Υποχρ/Συν.Ενεργ  Διάρκεια Παραμονής Αποθεμάτων  \\\n",
              "0                 0.532258                     545.195964   \n",
              "1                 0.660556                       7.950910   \n",
              "2                 0.550912                      28.602221   \n",
              "3                 0.683717                       1.216888   \n",
              "4                 0.254496                      52.346321   \n",
              "...                    ...                            ...   \n",
              "10711             0.726776                       1.724963   \n",
              "10712             1.151101                      12.379601   \n",
              "10713             1.030767                     422.327531   \n",
              "10714             1.000224                    1290.137484   \n",
              "10715             0.889729                    1169.619893   \n",
              "\n",
              "       Λογαριθμος Προσωπικού  ΕΝΔΕΙΞΗ ΕΞΑΓΩΓΩΝ  ΕΝΔΕΙΞΗ ΕΙΣΑΓΩΓΩΝ  \\\n",
              "0                   0.301030                 0                  1   \n",
              "1                   1.176091                 1                  1   \n",
              "2                   1.204120                 0                  1   \n",
              "3                   1.431364                 0                  0   \n",
              "4                   1.518514                 0                  1   \n",
              "...                      ...               ...                ...   \n",
              "10711               0.000000                 1                  0   \n",
              "10712               0.000000                 0                  0   \n",
              "10713               1.146128                 0                  1   \n",
              "10714               1.079181                 1                  1   \n",
              "10715               0.698970                 0                  1   \n",
              "\n",
              "       ΕΝΔΕΙΞΗ ΑΝΤΙΠΡΟΣΩΠΕΙΩΝ  ΕΝΔΕΙΞΗ ΑΣΥΝΕΠΕΙΑΣ (=2) (ν+1)  ΕΤΟΣ  \n",
              "0                           0                              1  2006  \n",
              "1                           1                              1  2006  \n",
              "2                           1                              1  2006  \n",
              "3                           0                              1  2006  \n",
              "4                           1                              1  2006  \n",
              "...                       ...                            ...   ...  \n",
              "10711                       0                              2  2009  \n",
              "10712                       0                              2  2009  \n",
              "10713                       0                              2  2009  \n",
              "10714                       0                              2  2009  \n",
              "10715                       1                              2  2009  \n",
              "\n",
              "[10716 rows x 13 columns]"
            ],
            "text/html": [
              "\n",
              "\n",
              "  <div id=\"df-08eea239-699c-49f2-85ce-a59c6736ae9c\">\n",
              "    <div class=\"colab-df-container\">\n",
              "      <div>\n",
              "<style scoped>\n",
              "    .dataframe tbody tr th:only-of-type {\n",
              "        vertical-align: middle;\n",
              "    }\n",
              "\n",
              "    .dataframe tbody tr th {\n",
              "        vertical-align: top;\n",
              "    }\n",
              "\n",
              "    .dataframe thead th {\n",
              "        text-align: right;\n",
              "    }\n",
              "</style>\n",
              "<table border=\"1\" class=\"dataframe\">\n",
              "  <thead>\n",
              "    <tr style=\"text-align: right;\">\n",
              "      <th></th>\n",
              "      <th>365* ( Β.Υ / Κοστ.Πωλ )</th>\n",
              "      <th>Λειτ.Αποτ/Συν.Ενεργ. (ROA)</th>\n",
              "      <th>ΧΡΗΜ.ΔΑΠΑΝΕΣ / ΠΩΛΗΣΕΙΣ</th>\n",
              "      <th>ΠΡΑΓΜΑΤΙΚΗ ΡΕΥΣΤΟΤΗΤΑ :  (ΚΕ-ΑΠΟΘΕΜΑΤΑ) / Β.Υ</th>\n",
              "      <th>(ΑΠΑΙΤ.*365) / ΠΩΛ.</th>\n",
              "      <th>Συν.Υποχρ/Συν.Ενεργ</th>\n",
              "      <th>Διάρκεια Παραμονής Αποθεμάτων</th>\n",
              "      <th>Λογαριθμος Προσωπικού</th>\n",
              "      <th>ΕΝΔΕΙΞΗ ΕΞΑΓΩΓΩΝ</th>\n",
              "      <th>ΕΝΔΕΙΞΗ ΕΙΣΑΓΩΓΩΝ</th>\n",
              "      <th>ΕΝΔΕΙΞΗ ΑΝΤΙΠΡΟΣΩΠΕΙΩΝ</th>\n",
              "      <th>ΕΝΔΕΙΞΗ ΑΣΥΝΕΠΕΙΑΣ (=2) (ν+1)</th>\n",
              "      <th>ΕΤΟΣ</th>\n",
              "    </tr>\n",
              "  </thead>\n",
              "  <tbody>\n",
              "    <tr>\n",
              "      <th>0</th>\n",
              "      <td>1014.128862</td>\n",
              "      <td>0.011751</td>\n",
              "      <td>0.038505</td>\n",
              "      <td>0.965479</td>\n",
              "      <td>567.866550</td>\n",
              "      <td>0.532258</td>\n",
              "      <td>545.195964</td>\n",
              "      <td>0.301030</td>\n",
              "      <td>0</td>\n",
              "      <td>1</td>\n",
              "      <td>0</td>\n",
              "      <td>1</td>\n",
              "      <td>2006</td>\n",
              "    </tr>\n",
              "    <tr>\n",
              "      <th>1</th>\n",
              "      <td>561.974631</td>\n",
              "      <td>0.099662</td>\n",
              "      <td>0.015775</td>\n",
              "      <td>1.415467</td>\n",
              "      <td>335.917481</td>\n",
              "      <td>0.660556</td>\n",
              "      <td>7.950910</td>\n",
              "      <td>1.176091</td>\n",
              "      <td>1</td>\n",
              "      <td>1</td>\n",
              "      <td>1</td>\n",
              "      <td>1</td>\n",
              "      <td>2006</td>\n",
              "    </tr>\n",
              "    <tr>\n",
              "      <th>2</th>\n",
              "      <td>826.919025</td>\n",
              "      <td>0.009594</td>\n",
              "      <td>0.093562</td>\n",
              "      <td>1.575034</td>\n",
              "      <td>350.618086</td>\n",
              "      <td>0.550912</td>\n",
              "      <td>28.602221</td>\n",
              "      <td>1.204120</td>\n",
              "      <td>0</td>\n",
              "      <td>1</td>\n",
              "      <td>1</td>\n",
              "      <td>1</td>\n",
              "      <td>2006</td>\n",
              "    </tr>\n",
              "    <tr>\n",
              "      <th>3</th>\n",
              "      <td>493.176956</td>\n",
              "      <td>0.196284</td>\n",
              "      <td>0.000581</td>\n",
              "      <td>1.346780</td>\n",
              "      <td>414.508709</td>\n",
              "      <td>0.683717</td>\n",
              "      <td>1.216888</td>\n",
              "      <td>1.431364</td>\n",
              "      <td>0</td>\n",
              "      <td>0</td>\n",
              "      <td>0</td>\n",
              "      <td>1</td>\n",
              "      <td>2006</td>\n",
              "    </tr>\n",
              "    <tr>\n",
              "      <th>4</th>\n",
              "      <td>100.421465</td>\n",
              "      <td>0.179038</td>\n",
              "      <td>0.000173</td>\n",
              "      <td>3.299687</td>\n",
              "      <td>118.548381</td>\n",
              "      <td>0.254496</td>\n",
              "      <td>52.346321</td>\n",
              "      <td>1.518514</td>\n",
              "      <td>0</td>\n",
              "      <td>1</td>\n",
              "      <td>1</td>\n",
              "      <td>1</td>\n",
              "      <td>2006</td>\n",
              "    </tr>\n",
              "    <tr>\n",
              "      <th>...</th>\n",
              "      <td>...</td>\n",
              "      <td>...</td>\n",
              "      <td>...</td>\n",
              "      <td>...</td>\n",
              "      <td>...</td>\n",
              "      <td>...</td>\n",
              "      <td>...</td>\n",
              "      <td>...</td>\n",
              "      <td>...</td>\n",
              "      <td>...</td>\n",
              "      <td>...</td>\n",
              "      <td>...</td>\n",
              "      <td>...</td>\n",
              "    </tr>\n",
              "    <tr>\n",
              "      <th>10711</th>\n",
              "      <td>129.571104</td>\n",
              "      <td>0.046147</td>\n",
              "      <td>0.000000</td>\n",
              "      <td>1.260416</td>\n",
              "      <td>0.380702</td>\n",
              "      <td>0.726776</td>\n",
              "      <td>1.724963</td>\n",
              "      <td>0.000000</td>\n",
              "      <td>1</td>\n",
              "      <td>0</td>\n",
              "      <td>0</td>\n",
              "      <td>2</td>\n",
              "      <td>2009</td>\n",
              "    </tr>\n",
              "    <tr>\n",
              "      <th>10712</th>\n",
              "      <td>1112.742613</td>\n",
              "      <td>0.032630</td>\n",
              "      <td>0.134262</td>\n",
              "      <td>0.664461</td>\n",
              "      <td>1.319013</td>\n",
              "      <td>1.151101</td>\n",
              "      <td>12.379601</td>\n",
              "      <td>0.000000</td>\n",
              "      <td>0</td>\n",
              "      <td>0</td>\n",
              "      <td>0</td>\n",
              "      <td>2</td>\n",
              "      <td>2009</td>\n",
              "    </tr>\n",
              "    <tr>\n",
              "      <th>10713</th>\n",
              "      <td>1194.250878</td>\n",
              "      <td>-0.172327</td>\n",
              "      <td>0.200000</td>\n",
              "      <td>0.572939</td>\n",
              "      <td>1.872967</td>\n",
              "      <td>1.030767</td>\n",
              "      <td>422.327531</td>\n",
              "      <td>1.146128</td>\n",
              "      <td>0</td>\n",
              "      <td>1</td>\n",
              "      <td>0</td>\n",
              "      <td>2</td>\n",
              "      <td>2009</td>\n",
              "    </tr>\n",
              "    <tr>\n",
              "      <th>10714</th>\n",
              "      <td>1500.000000</td>\n",
              "      <td>-0.073754</td>\n",
              "      <td>0.200000</td>\n",
              "      <td>0.715888</td>\n",
              "      <td>16.158480</td>\n",
              "      <td>1.000224</td>\n",
              "      <td>1290.137484</td>\n",
              "      <td>1.079181</td>\n",
              "      <td>1</td>\n",
              "      <td>1</td>\n",
              "      <td>0</td>\n",
              "      <td>2</td>\n",
              "      <td>2009</td>\n",
              "    </tr>\n",
              "    <tr>\n",
              "      <th>10715</th>\n",
              "      <td>1500.000000</td>\n",
              "      <td>-0.052115</td>\n",
              "      <td>0.200000</td>\n",
              "      <td>1.072936</td>\n",
              "      <td>34.691370</td>\n",
              "      <td>0.889729</td>\n",
              "      <td>1169.619893</td>\n",
              "      <td>0.698970</td>\n",
              "      <td>0</td>\n",
              "      <td>1</td>\n",
              "      <td>1</td>\n",
              "      <td>2</td>\n",
              "      <td>2009</td>\n",
              "    </tr>\n",
              "  </tbody>\n",
              "</table>\n",
              "<p>10716 rows × 13 columns</p>\n",
              "</div>\n",
              "      <button class=\"colab-df-convert\" onclick=\"convertToInteractive('df-08eea239-699c-49f2-85ce-a59c6736ae9c')\"\n",
              "              title=\"Convert this dataframe to an interactive table.\"\n",
              "              style=\"display:none;\">\n",
              "\n",
              "  <svg xmlns=\"http://www.w3.org/2000/svg\" height=\"24px\"viewBox=\"0 0 24 24\"\n",
              "       width=\"24px\">\n",
              "    <path d=\"M0 0h24v24H0V0z\" fill=\"none\"/>\n",
              "    <path d=\"M18.56 5.44l.94 2.06.94-2.06 2.06-.94-2.06-.94-.94-2.06-.94 2.06-2.06.94zm-11 1L8.5 8.5l.94-2.06 2.06-.94-2.06-.94L8.5 2.5l-.94 2.06-2.06.94zm10 10l.94 2.06.94-2.06 2.06-.94-2.06-.94-.94-2.06-.94 2.06-2.06.94z\"/><path d=\"M17.41 7.96l-1.37-1.37c-.4-.4-.92-.59-1.43-.59-.52 0-1.04.2-1.43.59L10.3 9.45l-7.72 7.72c-.78.78-.78 2.05 0 2.83L4 21.41c.39.39.9.59 1.41.59.51 0 1.02-.2 1.41-.59l7.78-7.78 2.81-2.81c.8-.78.8-2.07 0-2.86zM5.41 20L4 18.59l7.72-7.72 1.47 1.35L5.41 20z\"/>\n",
              "  </svg>\n",
              "      </button>\n",
              "\n",
              "\n",
              "\n",
              "    <div id=\"df-7bd0e629-416b-495b-a478-8f9340f97e81\">\n",
              "      <button class=\"colab-df-quickchart\" onclick=\"quickchart('df-7bd0e629-416b-495b-a478-8f9340f97e81')\"\n",
              "              title=\"Suggest charts.\"\n",
              "              style=\"display:none;\">\n",
              "\n",
              "<svg xmlns=\"http://www.w3.org/2000/svg\" height=\"24px\"viewBox=\"0 0 24 24\"\n",
              "     width=\"24px\">\n",
              "    <g>\n",
              "        <path d=\"M19 3H5c-1.1 0-2 .9-2 2v14c0 1.1.9 2 2 2h14c1.1 0 2-.9 2-2V5c0-1.1-.9-2-2-2zM9 17H7v-7h2v7zm4 0h-2V7h2v10zm4 0h-2v-4h2v4z\"/>\n",
              "    </g>\n",
              "</svg>\n",
              "      </button>\n",
              "    </div>\n",
              "\n",
              "<style>\n",
              "  .colab-df-quickchart {\n",
              "    background-color: #E8F0FE;\n",
              "    border: none;\n",
              "    border-radius: 50%;\n",
              "    cursor: pointer;\n",
              "    display: none;\n",
              "    fill: #1967D2;\n",
              "    height: 32px;\n",
              "    padding: 0 0 0 0;\n",
              "    width: 32px;\n",
              "  }\n",
              "\n",
              "  .colab-df-quickchart:hover {\n",
              "    background-color: #E2EBFA;\n",
              "    box-shadow: 0px 1px 2px rgba(60, 64, 67, 0.3), 0px 1px 3px 1px rgba(60, 64, 67, 0.15);\n",
              "    fill: #174EA6;\n",
              "  }\n",
              "\n",
              "  [theme=dark] .colab-df-quickchart {\n",
              "    background-color: #3B4455;\n",
              "    fill: #D2E3FC;\n",
              "  }\n",
              "\n",
              "  [theme=dark] .colab-df-quickchart:hover {\n",
              "    background-color: #434B5C;\n",
              "    box-shadow: 0px 1px 3px 1px rgba(0, 0, 0, 0.15);\n",
              "    filter: drop-shadow(0px 1px 2px rgba(0, 0, 0, 0.3));\n",
              "    fill: #FFFFFF;\n",
              "  }\n",
              "</style>\n",
              "\n",
              "    <script>\n",
              "      async function quickchart(key) {\n",
              "        const containerElement = document.querySelector('#' + key);\n",
              "        const charts = await google.colab.kernel.invokeFunction(\n",
              "            'suggestCharts', [key], {});\n",
              "      }\n",
              "    </script>\n",
              "\n",
              "      <script>\n",
              "\n",
              "function displayQuickchartButton(domScope) {\n",
              "  let quickchartButtonEl =\n",
              "    domScope.querySelector('#df-7bd0e629-416b-495b-a478-8f9340f97e81 button.colab-df-quickchart');\n",
              "  quickchartButtonEl.style.display =\n",
              "    google.colab.kernel.accessAllowed ? 'block' : 'none';\n",
              "}\n",
              "\n",
              "        displayQuickchartButton(document);\n",
              "      </script>\n",
              "      <style>\n",
              "    .colab-df-container {\n",
              "      display:flex;\n",
              "      flex-wrap:wrap;\n",
              "      gap: 12px;\n",
              "    }\n",
              "\n",
              "    .colab-df-convert {\n",
              "      background-color: #E8F0FE;\n",
              "      border: none;\n",
              "      border-radius: 50%;\n",
              "      cursor: pointer;\n",
              "      display: none;\n",
              "      fill: #1967D2;\n",
              "      height: 32px;\n",
              "      padding: 0 0 0 0;\n",
              "      width: 32px;\n",
              "    }\n",
              "\n",
              "    .colab-df-convert:hover {\n",
              "      background-color: #E2EBFA;\n",
              "      box-shadow: 0px 1px 2px rgba(60, 64, 67, 0.3), 0px 1px 3px 1px rgba(60, 64, 67, 0.15);\n",
              "      fill: #174EA6;\n",
              "    }\n",
              "\n",
              "    [theme=dark] .colab-df-convert {\n",
              "      background-color: #3B4455;\n",
              "      fill: #D2E3FC;\n",
              "    }\n",
              "\n",
              "    [theme=dark] .colab-df-convert:hover {\n",
              "      background-color: #434B5C;\n",
              "      box-shadow: 0px 1px 3px 1px rgba(0, 0, 0, 0.15);\n",
              "      filter: drop-shadow(0px 1px 2px rgba(0, 0, 0, 0.3));\n",
              "      fill: #FFFFFF;\n",
              "    }\n",
              "  </style>\n",
              "\n",
              "      <script>\n",
              "        const buttonEl =\n",
              "          document.querySelector('#df-08eea239-699c-49f2-85ce-a59c6736ae9c button.colab-df-convert');\n",
              "        buttonEl.style.display =\n",
              "          google.colab.kernel.accessAllowed ? 'block' : 'none';\n",
              "\n",
              "        async function convertToInteractive(key) {\n",
              "          const element = document.querySelector('#df-08eea239-699c-49f2-85ce-a59c6736ae9c');\n",
              "          const dataTable =\n",
              "            await google.colab.kernel.invokeFunction('convertToInteractive',\n",
              "                                                     [key], {});\n",
              "          if (!dataTable) return;\n",
              "\n",
              "          const docLinkHtml = 'Like what you see? Visit the ' +\n",
              "            '<a target=\"_blank\" href=https://colab.research.google.com/notebooks/data_table.ipynb>data table notebook</a>'\n",
              "            + ' to learn more about interactive tables.';\n",
              "          element.innerHTML = '';\n",
              "          dataTable['output_type'] = 'display_data';\n",
              "          await google.colab.output.renderOutput(dataTable, element);\n",
              "          const docLink = document.createElement('div');\n",
              "          docLink.innerHTML = docLinkHtml;\n",
              "          element.appendChild(docLink);\n",
              "        }\n",
              "      </script>\n",
              "    </div>\n",
              "  </div>\n"
            ]
          },
          "metadata": {}
        }
      ]
    },
    {
      "cell_type": "code",
      "source": [
        "# Normalize the data in columns 1-8 by subtracting the minimum value and dividing by the range\n",
        "df_companies.iloc[:, 0:7] = (df_companies.iloc[:, 0:7] - df_companies.iloc[:, 0:7].min()) / (df_companies.iloc[:, 0:7].max() - df_companies.iloc[:, 0:7].min())\n",
        "display(df_companies)"
      ],
      "metadata": {
        "colab": {
          "base_uri": "https://localhost:8080/",
          "height": 519
        },
        "id": "ZgFAQBVZNf1r",
        "outputId": "f28d7309-c96f-4b4e-dc70-c306066988dc"
      },
      "execution_count": 127,
      "outputs": [
        {
          "output_type": "display_data",
          "data": {
            "text/plain": [
              "       365* ( Β.Υ / Κοστ.Πωλ )  Λειτ.Αποτ/Συν.Ενεργ. (ROA)  \\\n",
              "0                     0.675945                    0.556137   \n",
              "1                     0.374377                    0.636057   \n",
              "2                     0.551084                    0.554176   \n",
              "3                     0.328492                    0.723895   \n",
              "4                     0.066540                    0.708216   \n",
              "...                        ...                         ...   \n",
              "10711                 0.085982                    0.587406   \n",
              "10712                 0.741716                    0.575118   \n",
              "10713                 0.796078                    0.388794   \n",
              "10714                 1.000000                    0.478406   \n",
              "10715                 1.000000                    0.498077   \n",
              "\n",
              "       ΧΡΗΜ.ΔΑΠΑΝΕΣ / ΠΩΛΗΣΕΙΣ  \\\n",
              "0                     0.192526   \n",
              "1                     0.078877   \n",
              "2                     0.467810   \n",
              "3                     0.002904   \n",
              "4                     0.000866   \n",
              "...                        ...   \n",
              "10711                 0.000000   \n",
              "10712                 0.671309   \n",
              "10713                 1.000000   \n",
              "10714                 1.000000   \n",
              "10715                 1.000000   \n",
              "\n",
              "        ΠΡΑΓΜΑΤΙΚΗ ΡΕΥΣΤΟΤΗΤΑ :  (ΚΕ-ΑΠΟΘΕΜΑΤΑ) / Β.Υ  (ΑΠΑΙΤ.*365) / ΠΩΛ.  \\\n",
              "0                                            0.192989             0.473222   \n",
              "1                                            0.282999             0.279931   \n",
              "2                                            0.314916             0.292182   \n",
              "3                                            0.269259             0.345424   \n",
              "4                                            0.659892             0.098790   \n",
              "...                                               ...                  ...   \n",
              "10711                                        0.251984             0.000317   \n",
              "10712                                        0.132778             0.001099   \n",
              "10713                                        0.114471             0.001561   \n",
              "10714                                        0.143064             0.013465   \n",
              "10715                                        0.214483             0.028909   \n",
              "\n",
              "       Συν.Υποχρ/Συν.Ενεργ  Διάρκεια Παραμονής Αποθεμάτων  \\\n",
              "0                 0.318549                       0.409274   \n",
              "1                 0.395393                       0.005969   \n",
              "2                 0.329722                       0.021471   \n",
              "3                 0.409265                       0.000914   \n",
              "4                 0.152183                       0.039296   \n",
              "...                    ...                            ...   \n",
              "10711             0.435056                       0.001295   \n",
              "10712             0.689205                       0.009293   \n",
              "10713             0.617131                       0.317038   \n",
              "10714             0.598837                       0.968495   \n",
              "10715             0.532656                       0.878023   \n",
              "\n",
              "       Λογαριθμος Προσωπικού  ΕΝΔΕΙΞΗ ΕΞΑΓΩΓΩΝ  ΕΝΔΕΙΞΗ ΕΙΣΑΓΩΓΩΝ  \\\n",
              "0                   0.301030                 0                  1   \n",
              "1                   1.176091                 1                  1   \n",
              "2                   1.204120                 0                  1   \n",
              "3                   1.431364                 0                  0   \n",
              "4                   1.518514                 0                  1   \n",
              "...                      ...               ...                ...   \n",
              "10711               0.000000                 1                  0   \n",
              "10712               0.000000                 0                  0   \n",
              "10713               1.146128                 0                  1   \n",
              "10714               1.079181                 1                  1   \n",
              "10715               0.698970                 0                  1   \n",
              "\n",
              "       ΕΝΔΕΙΞΗ ΑΝΤΙΠΡΟΣΩΠΕΙΩΝ  ΕΝΔΕΙΞΗ ΑΣΥΝΕΠΕΙΑΣ (=2) (ν+1)  ΕΤΟΣ  \n",
              "0                           0                              1  2006  \n",
              "1                           1                              1  2006  \n",
              "2                           1                              1  2006  \n",
              "3                           0                              1  2006  \n",
              "4                           1                              1  2006  \n",
              "...                       ...                            ...   ...  \n",
              "10711                       0                              2  2009  \n",
              "10712                       0                              2  2009  \n",
              "10713                       0                              2  2009  \n",
              "10714                       0                              2  2009  \n",
              "10715                       1                              2  2009  \n",
              "\n",
              "[10716 rows x 13 columns]"
            ],
            "text/html": [
              "\n",
              "\n",
              "  <div id=\"df-9840e4df-4764-4ef1-ba44-4b16617fca05\">\n",
              "    <div class=\"colab-df-container\">\n",
              "      <div>\n",
              "<style scoped>\n",
              "    .dataframe tbody tr th:only-of-type {\n",
              "        vertical-align: middle;\n",
              "    }\n",
              "\n",
              "    .dataframe tbody tr th {\n",
              "        vertical-align: top;\n",
              "    }\n",
              "\n",
              "    .dataframe thead th {\n",
              "        text-align: right;\n",
              "    }\n",
              "</style>\n",
              "<table border=\"1\" class=\"dataframe\">\n",
              "  <thead>\n",
              "    <tr style=\"text-align: right;\">\n",
              "      <th></th>\n",
              "      <th>365* ( Β.Υ / Κοστ.Πωλ )</th>\n",
              "      <th>Λειτ.Αποτ/Συν.Ενεργ. (ROA)</th>\n",
              "      <th>ΧΡΗΜ.ΔΑΠΑΝΕΣ / ΠΩΛΗΣΕΙΣ</th>\n",
              "      <th>ΠΡΑΓΜΑΤΙΚΗ ΡΕΥΣΤΟΤΗΤΑ :  (ΚΕ-ΑΠΟΘΕΜΑΤΑ) / Β.Υ</th>\n",
              "      <th>(ΑΠΑΙΤ.*365) / ΠΩΛ.</th>\n",
              "      <th>Συν.Υποχρ/Συν.Ενεργ</th>\n",
              "      <th>Διάρκεια Παραμονής Αποθεμάτων</th>\n",
              "      <th>Λογαριθμος Προσωπικού</th>\n",
              "      <th>ΕΝΔΕΙΞΗ ΕΞΑΓΩΓΩΝ</th>\n",
              "      <th>ΕΝΔΕΙΞΗ ΕΙΣΑΓΩΓΩΝ</th>\n",
              "      <th>ΕΝΔΕΙΞΗ ΑΝΤΙΠΡΟΣΩΠΕΙΩΝ</th>\n",
              "      <th>ΕΝΔΕΙΞΗ ΑΣΥΝΕΠΕΙΑΣ (=2) (ν+1)</th>\n",
              "      <th>ΕΤΟΣ</th>\n",
              "    </tr>\n",
              "  </thead>\n",
              "  <tbody>\n",
              "    <tr>\n",
              "      <th>0</th>\n",
              "      <td>0.675945</td>\n",
              "      <td>0.556137</td>\n",
              "      <td>0.192526</td>\n",
              "      <td>0.192989</td>\n",
              "      <td>0.473222</td>\n",
              "      <td>0.318549</td>\n",
              "      <td>0.409274</td>\n",
              "      <td>0.301030</td>\n",
              "      <td>0</td>\n",
              "      <td>1</td>\n",
              "      <td>0</td>\n",
              "      <td>1</td>\n",
              "      <td>2006</td>\n",
              "    </tr>\n",
              "    <tr>\n",
              "      <th>1</th>\n",
              "      <td>0.374377</td>\n",
              "      <td>0.636057</td>\n",
              "      <td>0.078877</td>\n",
              "      <td>0.282999</td>\n",
              "      <td>0.279931</td>\n",
              "      <td>0.395393</td>\n",
              "      <td>0.005969</td>\n",
              "      <td>1.176091</td>\n",
              "      <td>1</td>\n",
              "      <td>1</td>\n",
              "      <td>1</td>\n",
              "      <td>1</td>\n",
              "      <td>2006</td>\n",
              "    </tr>\n",
              "    <tr>\n",
              "      <th>2</th>\n",
              "      <td>0.551084</td>\n",
              "      <td>0.554176</td>\n",
              "      <td>0.467810</td>\n",
              "      <td>0.314916</td>\n",
              "      <td>0.292182</td>\n",
              "      <td>0.329722</td>\n",
              "      <td>0.021471</td>\n",
              "      <td>1.204120</td>\n",
              "      <td>0</td>\n",
              "      <td>1</td>\n",
              "      <td>1</td>\n",
              "      <td>1</td>\n",
              "      <td>2006</td>\n",
              "    </tr>\n",
              "    <tr>\n",
              "      <th>3</th>\n",
              "      <td>0.328492</td>\n",
              "      <td>0.723895</td>\n",
              "      <td>0.002904</td>\n",
              "      <td>0.269259</td>\n",
              "      <td>0.345424</td>\n",
              "      <td>0.409265</td>\n",
              "      <td>0.000914</td>\n",
              "      <td>1.431364</td>\n",
              "      <td>0</td>\n",
              "      <td>0</td>\n",
              "      <td>0</td>\n",
              "      <td>1</td>\n",
              "      <td>2006</td>\n",
              "    </tr>\n",
              "    <tr>\n",
              "      <th>4</th>\n",
              "      <td>0.066540</td>\n",
              "      <td>0.708216</td>\n",
              "      <td>0.000866</td>\n",
              "      <td>0.659892</td>\n",
              "      <td>0.098790</td>\n",
              "      <td>0.152183</td>\n",
              "      <td>0.039296</td>\n",
              "      <td>1.518514</td>\n",
              "      <td>0</td>\n",
              "      <td>1</td>\n",
              "      <td>1</td>\n",
              "      <td>1</td>\n",
              "      <td>2006</td>\n",
              "    </tr>\n",
              "    <tr>\n",
              "      <th>...</th>\n",
              "      <td>...</td>\n",
              "      <td>...</td>\n",
              "      <td>...</td>\n",
              "      <td>...</td>\n",
              "      <td>...</td>\n",
              "      <td>...</td>\n",
              "      <td>...</td>\n",
              "      <td>...</td>\n",
              "      <td>...</td>\n",
              "      <td>...</td>\n",
              "      <td>...</td>\n",
              "      <td>...</td>\n",
              "      <td>...</td>\n",
              "    </tr>\n",
              "    <tr>\n",
              "      <th>10711</th>\n",
              "      <td>0.085982</td>\n",
              "      <td>0.587406</td>\n",
              "      <td>0.000000</td>\n",
              "      <td>0.251984</td>\n",
              "      <td>0.000317</td>\n",
              "      <td>0.435056</td>\n",
              "      <td>0.001295</td>\n",
              "      <td>0.000000</td>\n",
              "      <td>1</td>\n",
              "      <td>0</td>\n",
              "      <td>0</td>\n",
              "      <td>2</td>\n",
              "      <td>2009</td>\n",
              "    </tr>\n",
              "    <tr>\n",
              "      <th>10712</th>\n",
              "      <td>0.741716</td>\n",
              "      <td>0.575118</td>\n",
              "      <td>0.671309</td>\n",
              "      <td>0.132778</td>\n",
              "      <td>0.001099</td>\n",
              "      <td>0.689205</td>\n",
              "      <td>0.009293</td>\n",
              "      <td>0.000000</td>\n",
              "      <td>0</td>\n",
              "      <td>0</td>\n",
              "      <td>0</td>\n",
              "      <td>2</td>\n",
              "      <td>2009</td>\n",
              "    </tr>\n",
              "    <tr>\n",
              "      <th>10713</th>\n",
              "      <td>0.796078</td>\n",
              "      <td>0.388794</td>\n",
              "      <td>1.000000</td>\n",
              "      <td>0.114471</td>\n",
              "      <td>0.001561</td>\n",
              "      <td>0.617131</td>\n",
              "      <td>0.317038</td>\n",
              "      <td>1.146128</td>\n",
              "      <td>0</td>\n",
              "      <td>1</td>\n",
              "      <td>0</td>\n",
              "      <td>2</td>\n",
              "      <td>2009</td>\n",
              "    </tr>\n",
              "    <tr>\n",
              "      <th>10714</th>\n",
              "      <td>1.000000</td>\n",
              "      <td>0.478406</td>\n",
              "      <td>1.000000</td>\n",
              "      <td>0.143064</td>\n",
              "      <td>0.013465</td>\n",
              "      <td>0.598837</td>\n",
              "      <td>0.968495</td>\n",
              "      <td>1.079181</td>\n",
              "      <td>1</td>\n",
              "      <td>1</td>\n",
              "      <td>0</td>\n",
              "      <td>2</td>\n",
              "      <td>2009</td>\n",
              "    </tr>\n",
              "    <tr>\n",
              "      <th>10715</th>\n",
              "      <td>1.000000</td>\n",
              "      <td>0.498077</td>\n",
              "      <td>1.000000</td>\n",
              "      <td>0.214483</td>\n",
              "      <td>0.028909</td>\n",
              "      <td>0.532656</td>\n",
              "      <td>0.878023</td>\n",
              "      <td>0.698970</td>\n",
              "      <td>0</td>\n",
              "      <td>1</td>\n",
              "      <td>1</td>\n",
              "      <td>2</td>\n",
              "      <td>2009</td>\n",
              "    </tr>\n",
              "  </tbody>\n",
              "</table>\n",
              "<p>10716 rows × 13 columns</p>\n",
              "</div>\n",
              "      <button class=\"colab-df-convert\" onclick=\"convertToInteractive('df-9840e4df-4764-4ef1-ba44-4b16617fca05')\"\n",
              "              title=\"Convert this dataframe to an interactive table.\"\n",
              "              style=\"display:none;\">\n",
              "\n",
              "  <svg xmlns=\"http://www.w3.org/2000/svg\" height=\"24px\"viewBox=\"0 0 24 24\"\n",
              "       width=\"24px\">\n",
              "    <path d=\"M0 0h24v24H0V0z\" fill=\"none\"/>\n",
              "    <path d=\"M18.56 5.44l.94 2.06.94-2.06 2.06-.94-2.06-.94-.94-2.06-.94 2.06-2.06.94zm-11 1L8.5 8.5l.94-2.06 2.06-.94-2.06-.94L8.5 2.5l-.94 2.06-2.06.94zm10 10l.94 2.06.94-2.06 2.06-.94-2.06-.94-.94-2.06-.94 2.06-2.06.94z\"/><path d=\"M17.41 7.96l-1.37-1.37c-.4-.4-.92-.59-1.43-.59-.52 0-1.04.2-1.43.59L10.3 9.45l-7.72 7.72c-.78.78-.78 2.05 0 2.83L4 21.41c.39.39.9.59 1.41.59.51 0 1.02-.2 1.41-.59l7.78-7.78 2.81-2.81c.8-.78.8-2.07 0-2.86zM5.41 20L4 18.59l7.72-7.72 1.47 1.35L5.41 20z\"/>\n",
              "  </svg>\n",
              "      </button>\n",
              "\n",
              "\n",
              "\n",
              "    <div id=\"df-204b8564-6ef8-48a0-a161-602c0c83ad4f\">\n",
              "      <button class=\"colab-df-quickchart\" onclick=\"quickchart('df-204b8564-6ef8-48a0-a161-602c0c83ad4f')\"\n",
              "              title=\"Suggest charts.\"\n",
              "              style=\"display:none;\">\n",
              "\n",
              "<svg xmlns=\"http://www.w3.org/2000/svg\" height=\"24px\"viewBox=\"0 0 24 24\"\n",
              "     width=\"24px\">\n",
              "    <g>\n",
              "        <path d=\"M19 3H5c-1.1 0-2 .9-2 2v14c0 1.1.9 2 2 2h14c1.1 0 2-.9 2-2V5c0-1.1-.9-2-2-2zM9 17H7v-7h2v7zm4 0h-2V7h2v10zm4 0h-2v-4h2v4z\"/>\n",
              "    </g>\n",
              "</svg>\n",
              "      </button>\n",
              "    </div>\n",
              "\n",
              "<style>\n",
              "  .colab-df-quickchart {\n",
              "    background-color: #E8F0FE;\n",
              "    border: none;\n",
              "    border-radius: 50%;\n",
              "    cursor: pointer;\n",
              "    display: none;\n",
              "    fill: #1967D2;\n",
              "    height: 32px;\n",
              "    padding: 0 0 0 0;\n",
              "    width: 32px;\n",
              "  }\n",
              "\n",
              "  .colab-df-quickchart:hover {\n",
              "    background-color: #E2EBFA;\n",
              "    box-shadow: 0px 1px 2px rgba(60, 64, 67, 0.3), 0px 1px 3px 1px rgba(60, 64, 67, 0.15);\n",
              "    fill: #174EA6;\n",
              "  }\n",
              "\n",
              "  [theme=dark] .colab-df-quickchart {\n",
              "    background-color: #3B4455;\n",
              "    fill: #D2E3FC;\n",
              "  }\n",
              "\n",
              "  [theme=dark] .colab-df-quickchart:hover {\n",
              "    background-color: #434B5C;\n",
              "    box-shadow: 0px 1px 3px 1px rgba(0, 0, 0, 0.15);\n",
              "    filter: drop-shadow(0px 1px 2px rgba(0, 0, 0, 0.3));\n",
              "    fill: #FFFFFF;\n",
              "  }\n",
              "</style>\n",
              "\n",
              "    <script>\n",
              "      async function quickchart(key) {\n",
              "        const containerElement = document.querySelector('#' + key);\n",
              "        const charts = await google.colab.kernel.invokeFunction(\n",
              "            'suggestCharts', [key], {});\n",
              "      }\n",
              "    </script>\n",
              "\n",
              "      <script>\n",
              "\n",
              "function displayQuickchartButton(domScope) {\n",
              "  let quickchartButtonEl =\n",
              "    domScope.querySelector('#df-204b8564-6ef8-48a0-a161-602c0c83ad4f button.colab-df-quickchart');\n",
              "  quickchartButtonEl.style.display =\n",
              "    google.colab.kernel.accessAllowed ? 'block' : 'none';\n",
              "}\n",
              "\n",
              "        displayQuickchartButton(document);\n",
              "      </script>\n",
              "      <style>\n",
              "    .colab-df-container {\n",
              "      display:flex;\n",
              "      flex-wrap:wrap;\n",
              "      gap: 12px;\n",
              "    }\n",
              "\n",
              "    .colab-df-convert {\n",
              "      background-color: #E8F0FE;\n",
              "      border: none;\n",
              "      border-radius: 50%;\n",
              "      cursor: pointer;\n",
              "      display: none;\n",
              "      fill: #1967D2;\n",
              "      height: 32px;\n",
              "      padding: 0 0 0 0;\n",
              "      width: 32px;\n",
              "    }\n",
              "\n",
              "    .colab-df-convert:hover {\n",
              "      background-color: #E2EBFA;\n",
              "      box-shadow: 0px 1px 2px rgba(60, 64, 67, 0.3), 0px 1px 3px 1px rgba(60, 64, 67, 0.15);\n",
              "      fill: #174EA6;\n",
              "    }\n",
              "\n",
              "    [theme=dark] .colab-df-convert {\n",
              "      background-color: #3B4455;\n",
              "      fill: #D2E3FC;\n",
              "    }\n",
              "\n",
              "    [theme=dark] .colab-df-convert:hover {\n",
              "      background-color: #434B5C;\n",
              "      box-shadow: 0px 1px 3px 1px rgba(0, 0, 0, 0.15);\n",
              "      filter: drop-shadow(0px 1px 2px rgba(0, 0, 0, 0.3));\n",
              "      fill: #FFFFFF;\n",
              "    }\n",
              "  </style>\n",
              "\n",
              "      <script>\n",
              "        const buttonEl =\n",
              "          document.querySelector('#df-9840e4df-4764-4ef1-ba44-4b16617fca05 button.colab-df-convert');\n",
              "        buttonEl.style.display =\n",
              "          google.colab.kernel.accessAllowed ? 'block' : 'none';\n",
              "\n",
              "        async function convertToInteractive(key) {\n",
              "          const element = document.querySelector('#df-9840e4df-4764-4ef1-ba44-4b16617fca05');\n",
              "          const dataTable =\n",
              "            await google.colab.kernel.invokeFunction('convertToInteractive',\n",
              "                                                     [key], {});\n",
              "          if (!dataTable) return;\n",
              "\n",
              "          const docLinkHtml = 'Like what you see? Visit the ' +\n",
              "            '<a target=\"_blank\" href=https://colab.research.google.com/notebooks/data_table.ipynb>data table notebook</a>'\n",
              "            + ' to learn more about interactive tables.';\n",
              "          element.innerHTML = '';\n",
              "          dataTable['output_type'] = 'display_data';\n",
              "          await google.colab.output.renderOutput(dataTable, element);\n",
              "          const docLink = document.createElement('div');\n",
              "          docLink.innerHTML = docLinkHtml;\n",
              "          element.appendChild(docLink);\n",
              "        }\n",
              "      </script>\n",
              "    </div>\n",
              "  </div>\n"
            ]
          },
          "metadata": {}
        }
      ]
    },
    {
      "cell_type": "code",
      "source": [
        "# inputData with column L removed\n",
        "inputData = df_companies.loc[:,df_companies.columns != 'ΕΝΔΕΙΞΗ ΑΣΥΝΕΠΕΙΑΣ (=2) (ν+1)']\n",
        "\n",
        "# outputData with column L\n",
        "outputData = df_companies.loc[:,df_companies.columns == 'ΕΝΔΕΙΞΗ ΑΣΥΝΕΠΕΙΑΣ (=2) (ν+1)']\n",
        "\n",
        "# split dataset: train = 80%, test = 20%\n",
        "inputData_train, inputData_test = train_test_split(inputData, test_size=0.2, random_state=0)\n",
        "outputData_train, outputData_test = train_test_split(outputData, test_size=0.2, random_state=0)"
      ],
      "metadata": {
        "id": "FcKB72QnNzV5"
      },
      "execution_count": 128,
      "outputs": []
    },
    {
      "cell_type": "markdown",
      "source": [
        "Linear Discriminant Analysis"
      ],
      "metadata": {
        "id": "LoTH_NWcQ92u"
      }
    },
    {
      "cell_type": "code",
      "source": [
        "lda = LinearDiscriminantAnalysis()\n",
        "\n",
        "# fit the model\n",
        "lda.fit(inputData_train, outputData_train.values.ravel())\n",
        "\n",
        "# use trained classifier\n",
        "lda_pred_train = lda.predict(inputData_train)\n",
        "lda_pred_test = lda.predict(inputData_test)"
      ],
      "metadata": {
        "id": "MO3b1X1SQ-bk"
      },
      "execution_count": 129,
      "outputs": []
    },
    {
      "cell_type": "markdown",
      "source": [
        "Logistic Regression"
      ],
      "metadata": {
        "id": "Lna53aA4PrI0"
      }
    },
    {
      "cell_type": "code",
      "source": [
        "logreg = LogisticRegression(max_iter = 400)\n",
        "\n",
        "# fit the model\n",
        "logreg.fit(inputData_train, outputData_train.values.ravel())\n",
        "\n",
        "# use trained classifier\n",
        "logreg_pred_train = logreg.predict(inputData_train)\n",
        "logreg_pred_test = logreg.predict(inputData_test)"
      ],
      "metadata": {
        "id": "tg8ZfDrPPgOL"
      },
      "execution_count": 130,
      "outputs": []
    },
    {
      "cell_type": "markdown",
      "source": [
        "Decision Trees"
      ],
      "metadata": {
        "id": "wJdbVGEwQiDO"
      }
    },
    {
      "cell_type": "code",
      "source": [
        "dct = DecisionTreeClassifier()\n",
        "\n",
        "# fit the model\n",
        "dct.fit(inputData_train, outputData_train)\n",
        "\n",
        "# use trained classifier\n",
        "dct_pred_train = dct.predict(inputData_train)\n",
        "dct_pred_test = dct.predict(inputData_test)"
      ],
      "metadata": {
        "id": "pJ8q37MxQjvP"
      },
      "execution_count": 131,
      "outputs": []
    },
    {
      "cell_type": "markdown",
      "source": [
        "k-Nearest Neighbors"
      ],
      "metadata": {
        "id": "Iu56mHdkQ_iY"
      }
    },
    {
      "cell_type": "code",
      "source": [
        "knn = KNeighborsClassifier(n_neighbors = 5)\n",
        "\n",
        "# fit the model\n",
        "knn.fit(inputData_train, outputData_train.values.ravel())\n",
        "\n",
        "# use trained classifier\n",
        "knn_pred_train = knn.predict(inputData_train)\n",
        "knn_pred_test = knn.predict(inputData_test)"
      ],
      "metadata": {
        "id": "GmAPR5PzRD-9"
      },
      "execution_count": 132,
      "outputs": []
    },
    {
      "cell_type": "markdown",
      "source": [
        "Naïve Bayes"
      ],
      "metadata": {
        "id": "pXohBTchREXR"
      }
    },
    {
      "cell_type": "code",
      "source": [
        "gnb = GaussianNB()\n",
        "\n",
        "# fit the model\n",
        "gnb.fit(inputData_train, outputData_train.values.ravel())\n",
        "\n",
        "# use trained classifier\n",
        "gnb_pred_train = gnb.predict(inputData_train)\n",
        "gnb_pred_test = gnb.predict(inputData_test)"
      ],
      "metadata": {
        "id": "OoBWfwc3RFeC"
      },
      "execution_count": 133,
      "outputs": []
    },
    {
      "cell_type": "markdown",
      "source": [
        "Support Vector Machines"
      ],
      "metadata": {
        "id": "upIXxaPQRF1s"
      }
    },
    {
      "cell_type": "code",
      "source": [
        "svm = SVC()\n",
        "\n",
        "# fit the model\n",
        "svm.fit(inputData_train, outputData_train.values.ravel())\n",
        "\n",
        "# use trained classifier\n",
        "svm_pred_train = svm.predict(inputData_train)\n",
        "svm_pred_test = svm.predict(inputData_test)"
      ],
      "metadata": {
        "id": "BGkCV2BWRHDI"
      },
      "execution_count": 134,
      "outputs": []
    },
    {
      "cell_type": "markdown",
      "source": [
        "Neural Networks"
      ],
      "metadata": {
        "id": "wxl2Y4_TRHXu"
      }
    },
    {
      "cell_type": "code",
      "source": [
        "CustomModel = keras.models.Sequential()\n",
        "CustomModel.add(keras.layers.Dense(16, input_dim=inputData_train.shape[1], activation='relu'))\n",
        "CustomModel.add(keras.layers.Dense(3, activation='softmax'))\n",
        "\n",
        "#compile model using accuracy to measure model performance\n",
        "CustomModel.compile(optimizer='adam', loss='categorical_crossentropy', metrics=['accuracy'])"
      ],
      "metadata": {
        "id": "rBzTM046RICi"
      },
      "execution_count": 135,
      "outputs": []
    },
    {
      "cell_type": "code",
      "source": [
        "#train the model\n",
        "CustomModel.fit(inputData_train, keras.utils.np_utils.to_categorical(outputData_train.values.ravel()), epochs=100, verbose=False)"
      ],
      "metadata": {
        "colab": {
          "base_uri": "https://localhost:8080/"
        },
        "id": "jd8330GzUpSo",
        "outputId": "be60e1b9-46da-4f40-c35f-3029698d1ad4"
      },
      "execution_count": 136,
      "outputs": [
        {
          "output_type": "execute_result",
          "data": {
            "text/plain": [
              "<keras.callbacks.History at 0x79b4a78f1510>"
            ]
          },
          "metadata": {},
          "execution_count": 136
        }
      ]
    },
    {
      "cell_type": "code",
      "source": [
        "nn_pred_train = CustomModel.predict(inputData_train)\n",
        "nn_pred_test = CustomModel.predict(inputData_test)"
      ],
      "metadata": {
        "colab": {
          "base_uri": "https://localhost:8080/"
        },
        "id": "os08yuAzVSPT",
        "outputId": "df527ee6-0bcf-422a-e7a6-5e90ff51f601"
      },
      "execution_count": 137,
      "outputs": [
        {
          "output_type": "stream",
          "name": "stdout",
          "text": [
            "268/268 [==============================] - 0s 723us/step\n",
            "67/67 [==============================] - 0s 848us/step\n"
          ]
        }
      ]
    },
    {
      "cell_type": "markdown",
      "source": [
        "Calculating scores"
      ],
      "metadata": {
        "id": "jp1APEc6W5zI"
      }
    },
    {
      "cell_type": "markdown",
      "source": [
        "\n",
        "\n",
        "---\n",
        "\n"
      ],
      "metadata": {
        "id": "w97M3ihcZoPj"
      }
    },
    {
      "cell_type": "markdown",
      "source": [
        "Linear Discriminant Analysis"
      ],
      "metadata": {
        "id": "GE_1unBRZkmT"
      }
    },
    {
      "cell_type": "code",
      "source": [
        "acc_train = accuracy_score(outputData_train, lda_pred_train)\n",
        "acc_test = accuracy_score(outputData_test, lda_pred_test)\n",
        "pre_train = precision_score(outputData_train, lda_pred_train, average='macro')\n",
        "pre_test = precision_score(outputData_test, lda_pred_test, average='macro')\n",
        "rec_train = recall_score(outputData_train, lda_pred_train, average='macro')\n",
        "rec_test = recall_score(outputData_test, lda_pred_test, average='macro')\n",
        "f1_train = f1_score(outputData_train, lda_pred_train, average='macro')\n",
        "f1_test = f1_score(outputData_test, lda_pred_test, average='macro')\n",
        "\n",
        "# print the scores\n",
        "print('Accuracy scores of <Linear Discriminant Analysis> classifier are:',\n",
        " 'train: {:.2f}'.format(acc_train), 'and test: {:.2f}.'.format(acc_test))\n",
        "print('Precision scores of <Linear Discriminant Analysis> classifier are:',\n",
        " 'train: {:.2f}'.format(pre_train), 'and test: {:.2f}.'.format(pre_test))\n",
        "print('Recall scores of <Linear Discriminant Analysis> classifier are:',\n",
        " 'train: {:.2f}'.format(rec_train), 'and test: {:.2f}.'.format(rec_test))\n",
        "print('F1 scores of <Linear Discriminant Analysis> classifier are:',\n",
        " 'train: {:.2f}'.format(f1_train), 'and test: {:.2f}.'.format(f1_test))"
      ],
      "metadata": {
        "colab": {
          "base_uri": "https://localhost:8080/"
        },
        "id": "_26do82RZmKx",
        "outputId": "54207d79-49d2-49d7-afcd-f875244db27d"
      },
      "execution_count": 138,
      "outputs": [
        {
          "output_type": "stream",
          "name": "stdout",
          "text": [
            "Accuracy scores of <Linear Discriminant Analysis> classifier are: train: 0.97 and test: 0.96.\n",
            "Precision scores of <Linear Discriminant Analysis> classifier are: train: 0.55 and test: 0.57.\n",
            "Recall scores of <Linear Discriminant Analysis> classifier are: train: 0.53 and test: 0.54.\n",
            "F1 scores of <Linear Discriminant Analysis> classifier are: train: 0.54 and test: 0.55.\n"
          ]
        }
      ]
    },
    {
      "cell_type": "markdown",
      "source": [
        "Logistic Regression"
      ],
      "metadata": {
        "id": "o5B8rKWpZmjz"
      }
    },
    {
      "cell_type": "code",
      "source": [
        "acc_train = accuracy_score(outputData_train, logreg_pred_train)\n",
        "acc_test = accuracy_score(outputData_test, logreg_pred_test)\n",
        "pre_train = precision_score(outputData_train, logreg_pred_train, average='macro', labels=np.unique(logreg_pred_train))\n",
        "pre_test = precision_score(outputData_test, logreg_pred_test, average='macro', labels=np.unique(logreg_pred_test))\n",
        "rec_train = recall_score(outputData_train, logreg_pred_train, average='macro', labels=np.unique(logreg_pred_train))\n",
        "rec_test = recall_score(outputData_test, logreg_pred_test, average='macro', labels=np.unique(logreg_pred_test))\n",
        "f1_train = f1_score(outputData_train, logreg_pred_train, average='macro', labels=np.unique(logreg_pred_train))\n",
        "f1_test = f1_score(outputData_test, logreg_pred_test, average='macro', labels=np.unique(logreg_pred_test))\n",
        "\n",
        "# print the scores\n",
        "print('Accuracy scores of <Logistic Regression> classifier are:',\n",
        " 'train: {:.2f}'.format(acc_train), 'and test: {:.2f}.'.format(acc_test))\n",
        "print('Precision scores of <Logistic Regression> classifier are:',\n",
        " 'train: {:.2f}'.format(pre_train), 'and test: {:.2f}.'.format(pre_test))\n",
        "print('Recall scores of <Logistic Regression> classifier are:',\n",
        " 'train: {:.2f}'.format(rec_train), 'and test: {:.2f}.'.format(rec_test))\n",
        "print('F1 scores of <Logistic Regression> classifier are:',\n",
        " 'train: {:.2f}'.format(f1_train), 'and test: {:.2f}.'.format(f1_test))"
      ],
      "metadata": {
        "colab": {
          "base_uri": "https://localhost:8080/"
        },
        "id": "3H9LbePLZnSn",
        "outputId": "46132cf0-3baa-4bef-b1f6-5482251ab017"
      },
      "execution_count": 139,
      "outputs": [
        {
          "output_type": "stream",
          "name": "stdout",
          "text": [
            "Accuracy scores of <Logistic Regression> classifier are: train: 0.98 and test: 0.97.\n",
            "Precision scores of <Logistic Regression> classifier are: train: 0.99 and test: 0.97.\n",
            "Recall scores of <Logistic Regression> classifier are: train: 0.50 and test: 1.00.\n",
            "F1 scores of <Logistic Regression> classifier are: train: 0.50 and test: 0.99.\n"
          ]
        }
      ]
    },
    {
      "cell_type": "markdown",
      "source": [
        "Decision Trees"
      ],
      "metadata": {
        "id": "-gmYEhX0ZdkS"
      }
    },
    {
      "cell_type": "code",
      "source": [
        "acc_train = accuracy_score(outputData_train, dct_pred_train)\n",
        "acc_test = accuracy_score(outputData_test, dct_pred_test)\n",
        "pre_train = precision_score(outputData_train, dct_pred_train, average='macro')\n",
        "pre_test = precision_score(outputData_test, dct_pred_test, average='macro')\n",
        "rec_train = recall_score(outputData_train, dct_pred_train, average='macro')\n",
        "rec_test = recall_score(outputData_test, dct_pred_test, average='macro')\n",
        "f1_train = f1_score(outputData_train, dct_pred_train, average='macro')\n",
        "f1_test = f1_score(outputData_test, dct_pred_test, average='macro')\n",
        "\n",
        "# print the scores\n",
        "print('Accuracy scores of <Decision Trees> classifier are:',\n",
        " 'train: {:.2f}'.format(acc_train), 'and test: {:.2f}.'.format(acc_test))\n",
        "print('Precision scores of <Decision Trees> classifier are:',\n",
        " 'train: {:.2f}'.format(pre_train), 'and test: {:.2f}.'.format(pre_test))\n",
        "print('Recall scores of <Decision Trees> classifier are:',\n",
        " 'train: {:.2f}'.format(rec_train), 'and test: {:.2f}.'.format(rec_test))\n",
        "print('F1 scores of <Decision Trees> classifier are:',\n",
        " 'train: {:.2f}'.format(f1_train), 'and test: {:.2f}.'.format(f1_test))"
      ],
      "metadata": {
        "colab": {
          "base_uri": "https://localhost:8080/"
        },
        "id": "QFM85a5KYOvs",
        "outputId": "78969f42-8ad3-44fa-f3f4-9e01cfcc82be"
      },
      "execution_count": 140,
      "outputs": [
        {
          "output_type": "stream",
          "name": "stdout",
          "text": [
            "Accuracy scores of <Decision Trees> classifier are: train: 1.00 and test: 0.96.\n",
            "Precision scores of <Decision Trees> classifier are: train: 1.00 and test: 0.55.\n",
            "Recall scores of <Decision Trees> classifier are: train: 1.00 and test: 0.54.\n",
            "F1 scores of <Decision Trees> classifier are: train: 1.00 and test: 0.55.\n"
          ]
        }
      ]
    },
    {
      "cell_type": "markdown",
      "source": [
        "k-Nearest Neighbors"
      ],
      "metadata": {
        "id": "DYKni24paen-"
      }
    },
    {
      "cell_type": "code",
      "source": [
        "acc_train = accuracy_score(outputData_train, knn_pred_train)\n",
        "acc_test = accuracy_score(outputData_test, knn_pred_test)\n",
        "pre_train = precision_score(outputData_train, knn_pred_train, average='macro')\n",
        "pre_test = precision_score(outputData_test, knn_pred_test, average='macro')\n",
        "rec_train = recall_score(outputData_train, knn_pred_train, average='macro')\n",
        "rec_test = recall_score(outputData_test, knn_pred_test, average='macro')\n",
        "f1_train = f1_score(outputData_train, knn_pred_train, average='macro')\n",
        "f1_test = f1_score(outputData_test, knn_pred_test, average='macro')\n",
        "\n",
        "# print the scores\n",
        "print('Accuracy scores of <k-Nearest Neighbors> classifier are:',\n",
        " 'train: {:.2f}'.format(acc_train), 'and test: {:.2f}.'.format(acc_test))\n",
        "print('Precision scores of <k-Nearest Neighbors> classifier are:',\n",
        " 'train: {:.2f}'.format(pre_train), 'and test: {:.2f}.'.format(pre_test))\n",
        "print('Recall scores of <k-Nearest Neighbors> classifier are:',\n",
        " 'train: {:.2f}'.format(rec_train), 'and test: {:.2f}.'.format(rec_test))\n",
        "print('F1 scores of <k-Nearest Neighbors> classifier are:',\n",
        " 'train: {:.2f}'.format(f1_train), 'and test: {:.2f}.'.format(f1_test))"
      ],
      "metadata": {
        "colab": {
          "base_uri": "https://localhost:8080/"
        },
        "id": "16ZlGr4maiIF",
        "outputId": "cc244b35-7d0c-493d-81e7-52ccf4c12d13"
      },
      "execution_count": 141,
      "outputs": [
        {
          "output_type": "stream",
          "name": "stdout",
          "text": [
            "Accuracy scores of <k-Nearest Neighbors> classifier are: train: 0.98 and test: 0.97.\n",
            "Precision scores of <k-Nearest Neighbors> classifier are: train: 0.90 and test: 0.77.\n",
            "Recall scores of <k-Nearest Neighbors> classifier are: train: 0.54 and test: 0.53.\n",
            "F1 scores of <k-Nearest Neighbors> classifier are: train: 0.56 and test: 0.56.\n"
          ]
        }
      ]
    },
    {
      "cell_type": "markdown",
      "source": [
        "Naïve Bayes"
      ],
      "metadata": {
        "id": "NhpZ-hSYaiZg"
      }
    },
    {
      "cell_type": "code",
      "source": [
        "acc_train = accuracy_score(outputData_train, gnb_pred_train)\n",
        "acc_test = accuracy_score(outputData_test, gnb_pred_test)\n",
        "pre_train = precision_score(outputData_train, gnb_pred_train, average='macro')\n",
        "pre_test = precision_score(outputData_test, gnb_pred_test, average='macro')\n",
        "rec_train = recall_score(outputData_train, gnb_pred_train, average='macro')\n",
        "rec_test = recall_score(outputData_test, gnb_pred_test, average='macro')\n",
        "f1_train = f1_score(outputData_train, gnb_pred_train, average='macro')\n",
        "f1_test = f1_score(outputData_test, gnb_pred_test, average='macro')\n",
        "\n",
        "# print the scores\n",
        "print('Accuracy scores of <Naïve Bayes> classifier are:',\n",
        " 'train: {:.2f}'.format(acc_train), 'and test: {:.2f}.'.format(acc_test))\n",
        "print('Precision scores of <Naïve Bayes> classifier are:',\n",
        " 'train: {:.2f}'.format(pre_train), 'and test: {:.2f}.'.format(pre_test))\n",
        "print('Recall scores of <Naïve Bayes> classifier are:',\n",
        " 'train: {:.2f}'.format(rec_train), 'and test: {:.2f}.'.format(rec_test))\n",
        "print('F1 scores of <Naïve Bayes> classifier are:',\n",
        " 'train: {:.2f}'.format(f1_train), 'and test: {:.2f}.'.format(f1_test))"
      ],
      "metadata": {
        "colab": {
          "base_uri": "https://localhost:8080/"
        },
        "id": "DKCWtDwMajbP",
        "outputId": "88392436-6416-49a3-8fd9-9adb12a493f7"
      },
      "execution_count": 142,
      "outputs": [
        {
          "output_type": "stream",
          "name": "stdout",
          "text": [
            "Accuracy scores of <Naïve Bayes> classifier are: train: 0.93 and test: 0.93.\n",
            "Precision scores of <Naïve Bayes> classifier are: train: 0.54 and test: 0.54.\n",
            "Recall scores of <Naïve Bayes> classifier are: train: 0.60 and test: 0.58.\n",
            "F1 scores of <Naïve Bayes> classifier are: train: 0.55 and test: 0.55.\n"
          ]
        }
      ]
    },
    {
      "cell_type": "markdown",
      "source": [
        "Support Vector Machines"
      ],
      "metadata": {
        "id": "qZRm1G4XalXZ"
      }
    },
    {
      "cell_type": "code",
      "source": [
        "acc_train = accuracy_score(outputData_train, svm_pred_train)\n",
        "acc_test = accuracy_score(outputData_test, svm_pred_test)\n",
        "pre_train = precision_score(outputData_train, svm_pred_train, average='macro', labels=np.unique(svm_pred_train))\n",
        "pre_test = precision_score(outputData_test, svm_pred_test, average='macro', labels=np.unique(svm_pred_test))\n",
        "rec_train = recall_score(outputData_train, svm_pred_train, average='macro', labels=np.unique(svm_pred_train))\n",
        "rec_test = recall_score(outputData_test, svm_pred_test, average='macro', labels=np.unique(svm_pred_test))\n",
        "f1_train = f1_score(outputData_train, svm_pred_train, average='macro', labels=np.unique(svm_pred_train))\n",
        "f1_test = f1_score(outputData_test, svm_pred_test, average='macro', labels=np.unique(svm_pred_test))\n",
        "\n",
        "# print the scores\n",
        "print('Accuracy scores of <Support Vector Machines> classifier are:',\n",
        " 'train: {:.2f}'.format(acc_train), 'and test: {:.2f}.'.format(acc_test))\n",
        "print('Precision scores of <Support Vector Machines> classifier are:',\n",
        " 'train: {:.2f}'.format(pre_train), 'and test: {:.2f}.'.format(pre_test))\n",
        "print('Recall scores of <Support Vector Machines> classifier are:',\n",
        " 'train: {:.2f}'.format(rec_train), 'and test: {:.2f}.'.format(rec_test))\n",
        "print('F1 scores of <Support Vector Machines> classifier are:',\n",
        " 'train: {:.2f}'.format(f1_train), 'and test: {:.2f}.'.format(f1_test))"
      ],
      "metadata": {
        "colab": {
          "base_uri": "https://localhost:8080/"
        },
        "id": "rhVg0D1xank_",
        "outputId": "edfda371-36cb-4f9d-d88a-d3726ab6620f"
      },
      "execution_count": 143,
      "outputs": [
        {
          "output_type": "stream",
          "name": "stdout",
          "text": [
            "Accuracy scores of <Support Vector Machines> classifier are: train: 0.98 and test: 0.97.\n",
            "Precision scores of <Support Vector Machines> classifier are: train: 0.98 and test: 0.97.\n",
            "Recall scores of <Support Vector Machines> classifier are: train: 1.00 and test: 1.00.\n",
            "F1 scores of <Support Vector Machines> classifier are: train: 0.99 and test: 0.99.\n"
          ]
        }
      ]
    },
    {
      "cell_type": "markdown",
      "source": [
        "Confusion matrices"
      ],
      "metadata": {
        "id": "bi9ZwIOpfO-s"
      }
    },
    {
      "cell_type": "markdown",
      "source": [
        "\n",
        "\n",
        "---\n",
        "\n"
      ],
      "metadata": {
        "id": "skxt4F3SfQH6"
      }
    },
    {
      "cell_type": "markdown",
      "source": [
        "Linear Discriminant Analysis"
      ],
      "metadata": {
        "id": "1T0RSFBJfRGI"
      }
    },
    {
      "cell_type": "code",
      "source": [
        "lda_conf_matrix = confusion_matrix(outputData_train, lda_pred_train)\n",
        "print(f\"TP: {lda_conf_matrix[1][1]}\")\n",
        "print(f\"TN: {lda_conf_matrix[0][0]}\")\n",
        "print(f\"FP: {lda_conf_matrix[0][1]}\")\n",
        "print(f\"FN: {lda_conf_matrix[1][0]}\")\n",
        "\n",
        "print(\"--------------\")\n",
        "\n",
        "lda_conf_matrix = confusion_matrix(outputData_test, lda_pred_test)\n",
        "print(f\"TP: {lda_conf_matrix[1][1]}\")\n",
        "print(f\"TN: {lda_conf_matrix[0][0]}\")\n",
        "print(f\"FP: {lda_conf_matrix[0][1]}\")\n",
        "print(f\"FN: {lda_conf_matrix[1][0]}\")"
      ],
      "metadata": {
        "colab": {
          "base_uri": "https://localhost:8080/"
        },
        "id": "ddv8N8_ifX4v",
        "outputId": "28b7016b-7ff9-440b-c390-bad588f1d7e3"
      },
      "execution_count": 144,
      "outputs": [
        {
          "output_type": "stream",
          "name": "stdout",
          "text": [
            "TP: 13\n",
            "TN: 8287\n",
            "FP: 94\n",
            "FN: 178\n",
            "--------------\n",
            "TP: 5\n",
            "TN: 2062\n",
            "FP: 25\n",
            "FN: 52\n"
          ]
        }
      ]
    },
    {
      "cell_type": "markdown",
      "source": [
        "Logistic Regression"
      ],
      "metadata": {
        "id": "Cw71WKqYfYx5"
      }
    },
    {
      "cell_type": "code",
      "source": [
        "logreg_conf_matrix = confusion_matrix(outputData_test, logreg_pred_test)\n",
        "print(f\"TP: {logreg_conf_matrix[1][1]}\")\n",
        "print(f\"TN: {logreg_conf_matrix[0][0]}\")\n",
        "print(f\"FP: {logreg_conf_matrix[0][1]}\")\n",
        "print(f\"FN: {logreg_conf_matrix[1][0]}\")\n",
        "\n",
        "print(\"--------------\")\n",
        "\n",
        "logreg_conf_matrix = confusion_matrix(outputData_train, logreg_pred_train)\n",
        "print(f\"TP: {logreg_conf_matrix[1][1]}\")\n",
        "print(f\"TN: {logreg_conf_matrix[0][0]}\")\n",
        "print(f\"FP: {logreg_conf_matrix[0][1]}\")\n",
        "print(f\"FN: {logreg_conf_matrix[1][0]}\")"
      ],
      "metadata": {
        "colab": {
          "base_uri": "https://localhost:8080/"
        },
        "id": "iyiUeBXAfaEF",
        "outputId": "e3a81cd8-600f-43ed-fbc0-49638c33fa89"
      },
      "execution_count": 145,
      "outputs": [
        {
          "output_type": "stream",
          "name": "stdout",
          "text": [
            "TP: 0\n",
            "TN: 2087\n",
            "FP: 0\n",
            "FN: 57\n",
            "--------------\n",
            "TP: 1\n",
            "TN: 8381\n",
            "FP: 0\n",
            "FN: 190\n"
          ]
        }
      ]
    },
    {
      "cell_type": "markdown",
      "source": [
        "Decision Trees"
      ],
      "metadata": {
        "id": "DOJxRdPNfafE"
      }
    },
    {
      "cell_type": "code",
      "source": [
        "dct_conf_matrix = confusion_matrix(outputData_train, dct_pred_train)\n",
        "print(f\"TP: {dct_conf_matrix[1][1]}\")\n",
        "print(f\"TN: {dct_conf_matrix[0][0]}\")\n",
        "print(f\"FP: {dct_conf_matrix[0][1]}\")\n",
        "print(f\"FN: {dct_conf_matrix[1][0]}\")\n",
        "\n",
        "print(\"--------------\")\n",
        "\n",
        "dct_conf_matrix = confusion_matrix(outputData_test, dct_pred_test)\n",
        "print(f\"TP: {dct_conf_matrix[1][1]}\")\n",
        "print(f\"TN: {dct_conf_matrix[0][0]}\")\n",
        "print(f\"FP: {dct_conf_matrix[0][1]}\")\n",
        "print(f\"FN: {dct_conf_matrix[1][0]}\")"
      ],
      "metadata": {
        "colab": {
          "base_uri": "https://localhost:8080/"
        },
        "id": "xNzscLELfcFw",
        "outputId": "e38dd3aa-6748-49c1-f806-3ad0df54a20c"
      },
      "execution_count": 146,
      "outputs": [
        {
          "output_type": "stream",
          "name": "stdout",
          "text": [
            "TP: 191\n",
            "TN: 8381\n",
            "FP: 0\n",
            "FN: 0\n",
            "--------------\n",
            "TP: 6\n",
            "TN: 2044\n",
            "FP: 43\n",
            "FN: 51\n"
          ]
        }
      ]
    },
    {
      "cell_type": "markdown",
      "source": [
        "k-Nearest Neighbors"
      ],
      "metadata": {
        "id": "gv07SIE4fcdd"
      }
    },
    {
      "cell_type": "code",
      "source": [
        "knn_conf_matrix = confusion_matrix(outputData_test, knn_pred_test)\n",
        "print(f\"TP: {knn_conf_matrix[1][1]}\")\n",
        "print(f\"TN: {knn_conf_matrix[0][0]}\")\n",
        "print(f\"FP: {knn_conf_matrix[0][1]}\")\n",
        "print(f\"FN: {knn_conf_matrix[1][0]}\")\n",
        "\n",
        "print(\"--------------\")\n",
        "\n",
        "knn_conf_matrix = confusion_matrix(outputData_train, knn_pred_train)\n",
        "print(f\"TP: {knn_conf_matrix[1][1]}\")\n",
        "print(f\"TN: {knn_conf_matrix[0][0]}\")\n",
        "print(f\"FP: {knn_conf_matrix[0][1]}\")\n",
        "print(f\"FN: {knn_conf_matrix[1][0]}\")"
      ],
      "metadata": {
        "colab": {
          "base_uri": "https://localhost:8080/"
        },
        "id": "ToH6WUE7feFK",
        "outputId": "b11a2b56-d8c4-4926-f20e-27fe431c9e5a"
      },
      "execution_count": 147,
      "outputs": [
        {
          "output_type": "stream",
          "name": "stdout",
          "text": [
            "TP: 4\n",
            "TN: 2084\n",
            "FP: 3\n",
            "FN: 53\n",
            "--------------\n",
            "TP: 14\n",
            "TN: 8378\n",
            "FP: 3\n",
            "FN: 177\n"
          ]
        }
      ]
    },
    {
      "cell_type": "markdown",
      "source": [
        "Naïve Bayes"
      ],
      "metadata": {
        "id": "r_TTrL46fedV"
      }
    },
    {
      "cell_type": "code",
      "source": [
        "gnb_conf_matrix = confusion_matrix(outputData_train, gnb_pred_train)\n",
        "print(f\"TP: {gnb_conf_matrix[1][1]}\")\n",
        "print(f\"TN: {gnb_conf_matrix[0][0]}\")\n",
        "print(f\"FP: {gnb_conf_matrix[0][1]}\")\n",
        "print(f\"FN: {gnb_conf_matrix[1][0]}\")\n",
        "\n",
        "print(\"--------------\")\n",
        "\n",
        "gnb_conf_matrix = confusion_matrix(outputData_test, gnb_pred_test)\n",
        "print(f\"TP: {gnb_conf_matrix[1][1]}\")\n",
        "print(f\"TN: {gnb_conf_matrix[0][0]}\")\n",
        "print(f\"FP: {gnb_conf_matrix[0][1]}\")\n",
        "print(f\"FN: {gnb_conf_matrix[1][0]}\")"
      ],
      "metadata": {
        "colab": {
          "base_uri": "https://localhost:8080/"
        },
        "id": "j5F-QW7Cff7P",
        "outputId": "b0cd311b-6945-4d9a-f6fa-f6339d1bcbe8"
      },
      "execution_count": 148,
      "outputs": [
        {
          "output_type": "stream",
          "name": "stdout",
          "text": [
            "TP: 48\n",
            "TN: 7902\n",
            "FP: 479\n",
            "FN: 143\n",
            "--------------\n",
            "TP: 12\n",
            "TN: 1981\n",
            "FP: 106\n",
            "FN: 45\n"
          ]
        }
      ]
    },
    {
      "cell_type": "markdown",
      "source": [
        "Support Vector Machines"
      ],
      "metadata": {
        "id": "jnGRNuZIfgNC"
      }
    },
    {
      "cell_type": "code",
      "source": [
        "svm_conf_matrix = confusion_matrix(outputData_test, svm_pred_test)\n",
        "print(f\"TP: {svm_conf_matrix[1][1]}\")\n",
        "print(f\"TN: {svm_conf_matrix[0][0]}\")\n",
        "print(f\"FP: {svm_conf_matrix[0][1]}\")\n",
        "print(f\"FN: {svm_conf_matrix[1][0]}\")\n",
        "\n",
        "print(\"--------------\")\n",
        "\n",
        "svm_conf_matrix = confusion_matrix(outputData_train, svm_pred_train)\n",
        "print(f\"TP: {svm_conf_matrix[1][1]}\")\n",
        "print(f\"TN: {svm_conf_matrix[0][0]}\")\n",
        "print(f\"FP: {svm_conf_matrix[0][1]}\")\n",
        "print(f\"FN: {svm_conf_matrix[1][0]}\")"
      ],
      "metadata": {
        "colab": {
          "base_uri": "https://localhost:8080/"
        },
        "id": "4eoL8pThfiVM",
        "outputId": "4ded4249-4957-4eaa-cee5-86c0292d7d0d"
      },
      "execution_count": 149,
      "outputs": [
        {
          "output_type": "stream",
          "name": "stdout",
          "text": [
            "TP: 0\n",
            "TN: 2087\n",
            "FP: 0\n",
            "FN: 57\n",
            "--------------\n",
            "TP: 0\n",
            "TN: 8381\n",
            "FP: 0\n",
            "FN: 191\n"
          ]
        }
      ]
    },
    {
      "cell_type": "code",
      "source": [
        "print(f\"Number of non-healthy companies in training sample: {outputData_train.value_counts()[2]}\")\n",
        "print(f\"Number of non-healthy companies in testing sample: {outputData_test.value_counts()[2]}\")"
      ],
      "metadata": {
        "colab": {
          "base_uri": "https://localhost:8080/"
        },
        "id": "-vdSEuEqqmWr",
        "outputId": "51a43a2c-aade-4233-c266-cc62d262bbea"
      },
      "execution_count": 150,
      "outputs": [
        {
          "output_type": "stream",
          "name": "stdout",
          "text": [
            "Number of non-healthy companies in training sample: 191\n",
            "Number of non-healthy companies in testing sample: 57\n"
          ]
        }
      ]
    }
  ]
}